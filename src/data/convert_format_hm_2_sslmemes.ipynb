{
 "cells": [
  {
   "cell_type": "code",
   "execution_count": 2,
   "metadata": {},
   "outputs": [],
   "source": [
    "import os\n",
    "import math\n",
    "import numpy as np\n",
    "import pandas as pd"
   ]
  },
  {
   "cell_type": "code",
   "execution_count": 3,
   "metadata": {},
   "outputs": [],
   "source": [
    "train_path = \"../../data/hateful_memes/train.jsonl\"\n",
    "dev_seen_path = '../../data/hateful_memes/dev_seen.jsonl'\n",
    "test_seen_path = '../../data/hateful_memes/test_seen.jsonl'\n",
    "dev_unseen_path = '../../data/hateful_memes/dev_unseen.jsonl'\n",
    "test_unseen_path = '../../data/hateful_memes/test_unseen.jsonl'"
   ]
  },
  {
   "cell_type": "code",
   "execution_count": 5,
   "metadata": {},
   "outputs": [],
   "source": [
    "train_df = pd.read_json(train_path, lines=True)\n",
    "dev_seen_df = pd.read_json(dev_seen_path, lines=True)\n",
    "test_seen_df = pd.read_json(test_seen_path, lines=True)\n",
    "dev_unseen_df = pd.read_json(dev_unseen_path, lines=True)\n",
    "test_unseen_df = pd.read_json(test_unseen_path, lines=True)\n"
   ]
  },
  {
   "cell_type": "code",
   "execution_count": 6,
   "metadata": {},
   "outputs": [
    {
     "data": {
      "text/html": [
       "<div>\n",
       "<style scoped>\n",
       "    .dataframe tbody tr th:only-of-type {\n",
       "        vertical-align: middle;\n",
       "    }\n",
       "\n",
       "    .dataframe tbody tr th {\n",
       "        vertical-align: top;\n",
       "    }\n",
       "\n",
       "    .dataframe thead th {\n",
       "        text-align: right;\n",
       "    }\n",
       "</style>\n",
       "<table border=\"1\" class=\"dataframe\">\n",
       "  <thead>\n",
       "    <tr style=\"text-align: right;\">\n",
       "      <th></th>\n",
       "      <th>id</th>\n",
       "      <th>img</th>\n",
       "      <th>label</th>\n",
       "      <th>text</th>\n",
       "    </tr>\n",
       "  </thead>\n",
       "  <tbody>\n",
       "    <tr>\n",
       "      <th>0</th>\n",
       "      <td>42953</td>\n",
       "      <td>img/42953.png</td>\n",
       "      <td>0</td>\n",
       "      <td>its their character not their color that matters</td>\n",
       "    </tr>\n",
       "    <tr>\n",
       "      <th>1</th>\n",
       "      <td>23058</td>\n",
       "      <td>img/23058.png</td>\n",
       "      <td>0</td>\n",
       "      <td>don't be afraid to love again everyone is not ...</td>\n",
       "    </tr>\n",
       "    <tr>\n",
       "      <th>2</th>\n",
       "      <td>13894</td>\n",
       "      <td>img/13894.png</td>\n",
       "      <td>0</td>\n",
       "      <td>putting bows on your pet</td>\n",
       "    </tr>\n",
       "    <tr>\n",
       "      <th>3</th>\n",
       "      <td>37408</td>\n",
       "      <td>img/37408.png</td>\n",
       "      <td>0</td>\n",
       "      <td>i love everything and everybody! except for sq...</td>\n",
       "    </tr>\n",
       "    <tr>\n",
       "      <th>4</th>\n",
       "      <td>82403</td>\n",
       "      <td>img/82403.png</td>\n",
       "      <td>0</td>\n",
       "      <td>everybody loves chocolate chip cookies, even h...</td>\n",
       "    </tr>\n",
       "    <tr>\n",
       "      <th>...</th>\n",
       "      <td>...</td>\n",
       "      <td>...</td>\n",
       "      <td>...</td>\n",
       "      <td>...</td>\n",
       "    </tr>\n",
       "    <tr>\n",
       "      <th>8495</th>\n",
       "      <td>10423</td>\n",
       "      <td>img/10423.png</td>\n",
       "      <td>1</td>\n",
       "      <td>nobody wants to hang auschwitz me</td>\n",
       "    </tr>\n",
       "    <tr>\n",
       "      <th>8496</th>\n",
       "      <td>98203</td>\n",
       "      <td>img/98203.png</td>\n",
       "      <td>1</td>\n",
       "      <td>when god grants you a child after 20 years of ...</td>\n",
       "    </tr>\n",
       "    <tr>\n",
       "      <th>8497</th>\n",
       "      <td>36947</td>\n",
       "      <td>img/36947.png</td>\n",
       "      <td>1</td>\n",
       "      <td>gays on social media: equality! body positivit...</td>\n",
       "    </tr>\n",
       "    <tr>\n",
       "      <th>8498</th>\n",
       "      <td>16492</td>\n",
       "      <td>img/16492.png</td>\n",
       "      <td>1</td>\n",
       "      <td>having a bad day? you could be a siamese twin ...</td>\n",
       "    </tr>\n",
       "    <tr>\n",
       "      <th>8499</th>\n",
       "      <td>15937</td>\n",
       "      <td>img/15937.png</td>\n",
       "      <td>1</td>\n",
       "      <td>i hate muslims too they take their religion to...</td>\n",
       "    </tr>\n",
       "  </tbody>\n",
       "</table>\n",
       "<p>8500 rows × 4 columns</p>\n",
       "</div>"
      ],
      "text/plain": [
       "         id            img  label  \\\n",
       "0     42953  img/42953.png      0   \n",
       "1     23058  img/23058.png      0   \n",
       "2     13894  img/13894.png      0   \n",
       "3     37408  img/37408.png      0   \n",
       "4     82403  img/82403.png      0   \n",
       "...     ...            ...    ...   \n",
       "8495  10423  img/10423.png      1   \n",
       "8496  98203  img/98203.png      1   \n",
       "8497  36947  img/36947.png      1   \n",
       "8498  16492  img/16492.png      1   \n",
       "8499  15937  img/15937.png      1   \n",
       "\n",
       "                                                   text  \n",
       "0      its their character not their color that matters  \n",
       "1     don't be afraid to love again everyone is not ...  \n",
       "2                              putting bows on your pet  \n",
       "3     i love everything and everybody! except for sq...  \n",
       "4     everybody loves chocolate chip cookies, even h...  \n",
       "...                                                 ...  \n",
       "8495                  nobody wants to hang auschwitz me  \n",
       "8496  when god grants you a child after 20 years of ...  \n",
       "8497  gays on social media: equality! body positivit...  \n",
       "8498  having a bad day? you could be a siamese twin ...  \n",
       "8499  i hate muslims too they take their religion to...  \n",
       "\n",
       "[8500 rows x 4 columns]"
      ]
     },
     "execution_count": 6,
     "metadata": {},
     "output_type": "execute_result"
    }
   ],
   "source": [
    "train_df"
   ]
  },
  {
   "cell_type": "code",
   "execution_count": 10,
   "metadata": {},
   "outputs": [],
   "source": [
    "train_df['img'] = train_df['img'].str.replace('img/', '')\n",
    "dev_seen_df['img'] = dev_seen_df['img'].str.replace('img/', '')\n",
    "test_seen_df['img'] = test_seen_df['img'].str.replace('img/', '')\n",
    "dev_unseen_df['img'] = dev_unseen_df['img'].str.replace('img/', '')\n",
    "test_unseen_df['img'] = test_unseen_df['img'].str.replace('img/', '')\n"
   ]
  },
  {
   "cell_type": "code",
   "execution_count": 14,
   "metadata": {},
   "outputs": [],
   "source": [
    "train_df.to_csv(\"../../data/hateful_memes/train.csv\", index=False)\n",
    "dev_seen_df.to_csv(\"../../data/hateful_memes/dev_seen.csv\", index=False)\n",
    "test_seen_df.to_csv(\"../../data/hateful_memes/test_seen.csv\", index=False)\n",
    "dev_unseen_df.to_csv(\"../../data/hateful_memes/dev_unseen.csv\", index=False)\n",
    "test_unseen_df.to_csv(\"../../data/hateful_memes/test_unseen.csv\", index=False)"
   ]
  },
  {
   "cell_type": "code",
   "execution_count": null,
   "metadata": {},
   "outputs": [],
   "source": []
  }
 ],
 "metadata": {
  "kernelspec": {
   "display_name": "Python 3 (ipykernel)",
   "language": "python",
   "name": "python3"
  },
  "language_info": {
   "codemirror_mode": {
    "name": "ipython",
    "version": 3
   },
   "file_extension": ".py",
   "mimetype": "text/x-python",
   "name": "python",
   "nbconvert_exporter": "python",
   "pygments_lexer": "ipython3",
   "version": "3.8.13"
  },
  "vscode": {
   "interpreter": {
    "hash": "59fae1f8b1f0016495614fe7e7026393e22232e20a9b015251ff6b024c7a58df"
   }
  }
 },
 "nbformat": 4,
 "nbformat_minor": 2
}
