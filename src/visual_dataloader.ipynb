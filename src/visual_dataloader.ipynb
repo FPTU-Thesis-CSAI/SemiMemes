{
 "cells": [
  {
   "cell_type": "code",
   "execution_count": 1,
   "metadata": {},
   "outputs": [],
   "source": [
    "# OPTIONAL: Load the \"autoreload\" extension so that code can change\n",
    "%load_ext autoreload\n",
    "\n",
    "# OPTIONAL: always reload modules so that as you change code in src, it gets loaded\n",
    "%autoreload 2"
   ]
  },
  {
   "cell_type": "code",
   "execution_count": 19,
   "metadata": {},
   "outputs": [],
   "source": [
    "from transformers import BertTokenizer, LxmertTokenizer\n",
    "from data import ImageTextClassificationDataset, collate_fn_batch_visualbert, collate_fn_batch_lxmert, collate_fn_batch_visualbert_semi_supervised, collate_fn_batch_lxmert_semi_supervised\n",
    "from matplotlib import pyplot as plt\n",
    "import pandas as pd\n",
    "from functools import partial"
   ]
  },
  {
   "cell_type": "code",
   "execution_count": 9,
   "metadata": {},
   "outputs": [],
   "source": [
    "# import argparse"
   ]
  },
  {
   "cell_type": "code",
   "execution_count": 14,
   "metadata": {},
   "outputs": [
    {
     "name": "stderr",
     "output_type": "stream",
     "text": [
      "/usr/local/lib/python3.7/dist-packages/ipykernel_launcher.py:2: DeprecationWarning: The default dtype for empty Series will be 'object' instead of 'float64' in a future version. Specify a dtype explicitly to silence this warning.\n",
      "  \n"
     ]
    },
    {
     "data": {
      "text/plain": [
       "img_feature_path                ../data/features/visualbert/\n",
       "train_csv_path      ../data/splits/random/memotion_train.csv\n",
       "val_csv_path          ../data/splits/random/memotion_val.csv\n",
       "model_type                                        visualbert\n",
       "model_path                 uclanlp/visualbert-nlvr2-coco-pre\n",
       "learning_rate                                        0.00002\n",
       "epoch                                                    100\n",
       "eval_step                                                100\n",
       "batch_size                                                64\n",
       "amp                                                     True\n",
       "output_dir                                             ./tmp\n",
       "checkpoint_step                                         1000\n",
       "random_seed                                               42\n",
       "resume_training                                        False\n",
       "semi-supervised                                        False\n",
       "dtype: object"
      ]
     },
     "execution_count": 14,
     "metadata": {},
     "output_type": "execute_result"
    }
   ],
   "source": [
    "# parser = argparse.ArgumentParser(description='train')\n",
    "parser = pd.Series()\n",
    "parser = parser.append(pd.Series({'img_feature_path': \"../data/features/visualbert/\"}))\n",
    "parser = parser.append(pd.Series({'train_csv_path': \"../data/splits/random/memotion_train.csv\"}))\n",
    "parser = parser.append(pd.Series({'val_csv_path': \"../data/splits/random/memotion_val.csv\"}))\n",
    "parser = parser.append(pd.Series({'model_type': \"visualbert\"}))\n",
    "parser = parser.append(pd.Series({'model_path': \"uclanlp/visualbert-nlvr2-coco-pre\"}))\n",
    "parser = parser.append(pd.Series({'learning_rate': 2e-5}))\n",
    "parser = parser.append(pd.Series({'epoch': 100}))\n",
    "parser = parser.append(pd.Series({'eval_step': 100}))\n",
    "parser = parser.append(pd.Series({'batch_size': 64}))\n",
    "parser = parser.append(pd.Series({'amp':True}))\n",
    "parser = parser.append(pd.Series({'output_dir': \"./tmp\"}))\n",
    "parser = parser.append(pd.Series({'checkpoint_step': 1000}))\n",
    "parser = parser.append(pd.Series({'random_seed': 42}))\n",
    "parser = parser.append(pd.Series({'resume_training': False}))\n",
    "parser = parser.append(pd.Series({'semi-supervised': False}))\n",
    "\n",
    "\n",
    "# args = parser.parse_args()\n",
    "args = parser\n",
    "args"
   ]
  },
  {
   "cell_type": "code",
   "execution_count": 15,
   "metadata": {},
   "outputs": [],
   "source": [
    "img_feature_path = args.img_feature_path\n",
    "model_type = args.model_type\n",
    "# dataset_train = ImageTextClassificationDataset(img_feature_path, args.train_csv_path, \n",
    "#             supervise = not args.semi_supervised,model_type=model_type, vilt_processor=processor,mode='train')\n",
    "dataset_val = ImageTextClassificationDataset(img_feature_path, args.val_csv_path, model_type=model_type,mode='val')\n"
   ]
  },
  {
   "cell_type": "code",
   "execution_count": 20,
   "metadata": {},
   "outputs": [
    {
     "data": {
      "application/vnd.jupyter.widget-view+json": {
       "model_id": "dd013e9966774d3295dd9182bd47ccd3",
       "version_major": 2,
       "version_minor": 0
      },
      "text/plain": [
       "Downloading:   0%|          | 0.00/226k [00:00<?, ?B/s]"
      ]
     },
     "metadata": {},
     "output_type": "display_data"
    },
    {
     "data": {
      "application/vnd.jupyter.widget-view+json": {
       "model_id": "d031feffa8f04eb08fc3737bd1ca38c5",
       "version_major": 2,
       "version_minor": 0
      },
      "text/plain": [
       "Downloading:   0%|          | 0.00/28.0 [00:00<?, ?B/s]"
      ]
     },
     "metadata": {},
     "output_type": "display_data"
    },
    {
     "data": {
      "application/vnd.jupyter.widget-view+json": {
       "model_id": "e6c8ef38b66c498da2536d4558cea698",
       "version_major": 2,
       "version_minor": 0
      },
      "text/plain": [
       "Downloading:   0%|          | 0.00/570 [00:00<?, ?B/s]"
      ]
     },
     "metadata": {},
     "output_type": "display_data"
    }
   ],
   "source": [
    "# load model\n",
    "if model_type == \"visualbert\":\n",
    "    # config = VisualBertConfig.from_pretrained(args.model_path)\n",
    "    # model = VisualBertModel.from_pretrained(args.model_path)\n",
    "    # model = ModelForBinaryClassification(model,config)\n",
    "    tokenizer = BertTokenizer.from_pretrained(\"bert-base-uncased\")\n",
    "    # processor = None\n",
    "elif model_type == \"lxmert\":\n",
    "    # config = LxmertConfig.from_pretrained(args.model_path)\n",
    "    # model = LxmertModel.from_pretrained(args.model_path)\n",
    "    # model = ModelForBinaryClassification(model,config)\n",
    "    tokenizer = LxmertTokenizer.from_pretrained(\"unc-nlp/lxmert-base-uncased\") \n",
    "    # processor = None\n",
    "# elif model_type == \"vilt\":\n",
    "#     from transformers import ViltProcessor, ViltModel, ViltForImagesAndTextClassification\n",
    "#     config = AutoConfig.from_pretrained(\"dandelin/vilt-b32-mlm\")\n",
    "#     config.num_images = 1\n",
    "#     model = ViltForImagesAndTextClassification(config)\n",
    "#     model.vilt = ViltModel.from_pretrained(args.model_path)\n",
    "#     processor = ViltProcessor.from_pretrained(\"dandelin/vilt-b32-mlm\")\n",
    "#     tokenizer = None"
   ]
  },
  {
   "cell_type": "code",
   "execution_count": null,
   "metadata": {},
   "outputs": [],
   "source": [
    "if args.semi_supervised:\n",
    "    if model_type == \"visualbert\":\n",
    "        collate_fn_batch = partial(collate_fn_batch_visualbert_semi_supervised,tokenizer=tokenizer)\n",
    "    elif model_type == \"lxmert\":\n",
    "        collate_fn_batch = partial(collate_fn_batch_lxmert_semi_supervised,tokenizer=tokenizer)\n",
    "else:\n",
    "    if model_type == \"visualbert\":\n",
    "        collate_fn_batch = partial(collate_fn_batch_visualbert,tokenizer=tokenizer)\n",
    "    elif model_type == \"lxmert\":\n",
    "        collate_fn_batch = partial(collate_fn_batch_lxmert,tokenizer=tokenizer)\n",
    "    # elif model_type == \"vilt\":\n",
    "    #     collate_fn_batch = partial(collate_fn_batch_vilt,processor=processor)"
   ]
  }
 ],
 "metadata": {
  "kernelspec": {
   "display_name": "Python 3.7.14 64-bit",
   "language": "python",
   "name": "python3"
  },
  "language_info": {
   "codemirror_mode": {
    "name": "ipython",
    "version": 3
   },
   "file_extension": ".py",
   "mimetype": "text/x-python",
   "name": "python",
   "nbconvert_exporter": "python",
   "pygments_lexer": "ipython3",
   "version": "3.7.14"
  },
  "orig_nbformat": 4,
  "vscode": {
   "interpreter": {
    "hash": "31f2aee4e71d21fbe5cf8b01ff0e069b9275f58929596ceb00d14d90e3e16cd6"
   }
  }
 },
 "nbformat": 4,
 "nbformat_minor": 2
}
